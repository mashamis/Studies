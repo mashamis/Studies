{
 "cells": [
  {
   "cell_type": "code",
   "execution_count": 1,
   "id": "0a40382e",
   "metadata": {},
   "outputs": [],
   "source": [
    "import numpy as np\n",
    "from matplotlib import pylab as plt\n",
    "import PIL"
   ]
  },
  {
   "cell_type": "code",
   "execution_count": 2,
   "id": "4dad45ef",
   "metadata": {},
   "outputs": [],
   "source": [
    "import copy\n",
    "\n",
    "def thickening_operation(X, border, A):\n",
    "    shifts = [(0, 1), (0, -1), (1, 0), (-1, 0)]\n",
    "    new_border = copy.deepcopy(border)\n",
    "    for point in border:\n",
    "        is_valid = True\n",
    "        for movement in A:\n",
    "            check_point = (point[0] + movement[0], point[1] + movement[1])\n",
    "            if check_point not in X:\n",
    "                is_valid = False\n",
    "                break\n",
    "        if is_valid:\n",
    "            del new_border[point]\n",
    "            for shift in shifts:\n",
    "                new_point = (point[0] + shift[0], point[1] + shift[1])\n",
    "                if new_point in X or new_point in new_border:\n",
    "                    continue\n",
    "                new_border[new_point] = 0\n",
    "            X[point] = 0\n",
    "    return X, new_border"
   ]
  },
  {
   "cell_type": "code",
   "execution_count": 3,
   "id": "31b49c1d",
   "metadata": {},
   "outputs": [],
   "source": [
    "def build_convex_hull(data):\n",
    "    templates = [\n",
    "        [(0, 1), (-1, -1), (-1, 0), (-1, 1)],\n",
    "        [(-1, 0), (-1, -1), (0, -1), (1, -1)],\n",
    "        [(0, -1), (1, -1), (1, 0), (1, 1)],\n",
    "        [(1, 0), (-1, 1), (0, 1), (1, 1)],\n",
    "        [(0, -1), (-1, -1), (-1, 0), (-1, 1)],\n",
    "        [(1, 0), (-1, -1), (0, -1), (1, -1)],\n",
    "        [(0, 1), (1, -1), (1, 0), (1, 1)],\n",
    "        [(-1, 0), (-1, 1), (0, 1), (1, 1)]\n",
    "    ]\n",
    "    \n",
    "    height, width = data.shape[0], data.shape[1]\n",
    "    \n",
    "    points = {(i, j): 0 for i in range(height) for j in range(width) if not data[i, j]}\n",
    "    border = {}\n",
    "    \n",
    "    shifts = [(0, 1), (0, -1), (1, 0), (-1, 0)]\n",
    "    \n",
    "    for point in points.keys():\n",
    "        for shift in shifts:\n",
    "            new_point = (point[0] + shift[0], point[1] + shift[1])\n",
    "            if new_point in points or new_point in border:\n",
    "                continue\n",
    "            border[new_point] = 0\n",
    "\n",
    "    while True:\n",
    "        new_points = copy.deepcopy(points)\n",
    "        for template in templates:\n",
    "            new_points, border = thickening_operation(new_points, border, template)\n",
    "        if points == new_points:\n",
    "            break\n",
    "        points = new_points\n",
    "        print(len(points.keys()))\n",
    "\n",
    "    return points"
   ]
  },
  {
   "cell_type": "code",
   "execution_count": 16,
   "id": "66726503",
   "metadata": {},
   "outputs": [
    {
     "name": "stdout",
     "output_type": "stream",
     "text": [
      "79299\n",
      "79786\n",
      "80291\n",
      "80771\n",
      "81236\n",
      "81659\n",
      "82031\n",
      "82336\n",
      "82655\n",
      "82933\n",
      "83090\n",
      "83210\n",
      "83293\n",
      "83337\n",
      "83350\n",
      "83352\n"
     ]
    }
   ],
   "source": [
    "import cv2\n",
    "\n",
    "image_1 = cv2.imread('circle.png', cv2.IMREAD_GRAYSCALE)\n",
    "image_2 = cv2.imread('rect_ov_1.png', cv2.IMREAD_GRAYSCALE)\n",
    "image_3 = cv2.imread('heart_1.png', cv2.IMREAD_GRAYSCALE)\n",
    "\n",
    "convex = build_convex_hull(image_1)"
   ]
  },
  {
   "cell_type": "code",
   "execution_count": 17,
   "id": "927c55f4",
   "metadata": {},
   "outputs": [
    {
     "data": {
      "text/plain": [
       "<matplotlib.image.AxesImage at 0x2086a0bf148>"
      ]
     },
     "execution_count": 17,
     "metadata": {},
     "output_type": "execute_result"
    },
    {
     "data": {
      "image/png": "[encoded data removed]",
      "text/plain": [
       "<Figure size 640x480 with 1 Axes>"
      ]
     },
     "metadata": {},
     "output_type": "display_data"
    }
   ],
   "source": [
    "nx, ny = image_2.shape\n",
    "a = np.ones((nx, ny), dtype=bool)\n",
    "\n",
    "for i in range(nx):\n",
    "    for j in range(ny):     \n",
    "        a[i, j] = (i, j) not in convex\n",
    "\n",
    "plt.imshow(a, cmap='gray')"
   ]
  },
  {
   "cell_type": "code",
   "execution_count": null,
   "id": "f1aca93a",
   "metadata": {},
   "outputs": [],
   "source": []
  }
 ],
 "metadata": {
  "kernelspec": {
   "display_name": "Python 3 (ipykernel)",
   "language": "python",
   "name": "python3"
  },
  "language_info": {
   "codemirror_mode": {
    "name": "ipython",
    "version": 3
   },
   "file_extension": ".py",
   "mimetype": "text/x-python",
   "name": "python",
   "nbconvert_exporter": "python",
   "pygments_lexer": "ipython3",
   "version": "3.7.16"
  }
 },
 "nbformat": 4,
 "nbformat_minor": 5
}
